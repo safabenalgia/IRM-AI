{
  "cells": [
    {
      "cell_type": "markdown",
      "metadata": {},
      "source": [
        "**Classification of a simple dataset using Kmeans**\n",
        "\n",
        "<u>Goal:</u>\n",
        "\n",
        "The main goal is to learn how to use KNN with scikit-learn library\"\n",
        "\n",
        "<u>To do:</u>\n",
        "\n",
        "Complete the source code whenever you find <font color='red'>#?</font>"
      ]
    },
    {
      "cell_type": "markdown",
      "metadata": {
        "id": "r7H-PzjB8HwW"
      },
      "source": [
        "This case study concerns simple employee data.\n",
        "\n",
        "This data does not require preprocessing.\n",
        "\n",
        "The goal is to :\n",
        "- From a labeled population of employees, apply KNN to find the best classifier.\n",
        "- Given a new employee, predict the label of the class to which he belongs."
      ]
    },
    {
      "cell_type": "markdown",
      "metadata": {
        "id": "TPjaqXMU8QwN"
      },
      "source": [
        "**1. Create the dataset**"
      ]
    },
    {
      "cell_type": "markdown",
      "metadata": {},
      "source": [
        "The dataset is a <font color='red'>data table</font> where :\n",
        "- Rows are employees\n",
        "- The columns are :\n",
        "   - The columns that correpond to the numerical primitive caracteristics : 'age' and 'salary'\n",
        "   - The target column is 'category'"
      ]
    },
    {
      "cell_type": "code",
      "execution_count": 1,
      "metadata": {},
      "outputs": [],
      "source": [
        "# Import pandas module and give it pd as alias\n",
        "#?"
      ]
    },
    {
      "cell_type": "code",
      "execution_count": 73,
      "metadata": {
        "colab": {
          "base_uri": "https://localhost:8080/",
          "height": 238
        },
        "id": "_OeP9pkgGWcw",
        "outputId": "0789213b-411d-4205-f174-6598c56fd85d"
      },
      "outputs": [
        {
          "data": {
            "text/html": [
              "<div>\n",
              "<style scoped>\n",
              "    .dataframe tbody tr th:only-of-type {\n",
              "        vertical-align: middle;\n",
              "    }\n",
              "\n",
              "    .dataframe tbody tr th {\n",
              "        vertical-align: top;\n",
              "    }\n",
              "\n",
              "    .dataframe thead th {\n",
              "        text-align: right;\n",
              "    }\n",
              "</style>\n",
              "<table border=\"1\" class=\"dataframe\">\n",
              "  <thead>\n",
              "    <tr style=\"text-align: right;\">\n",
              "      <th></th>\n",
              "      <th>salary</th>\n",
              "      <th>age</th>\n",
              "      <th>category</th>\n",
              "    </tr>\n",
              "  </thead>\n",
              "  <tbody>\n",
              "    <tr>\n",
              "      <th>Amina</th>\n",
              "      <td>1200</td>\n",
              "      <td>25</td>\n",
              "      <td>Junior</td>\n",
              "    </tr>\n",
              "    <tr>\n",
              "      <th>Amine</th>\n",
              "      <td>1300</td>\n",
              "      <td>27</td>\n",
              "      <td>Junior</td>\n",
              "    </tr>\n",
              "    <tr>\n",
              "      <th>Ahmed</th>\n",
              "      <td>1100</td>\n",
              "      <td>27</td>\n",
              "      <td>Junior</td>\n",
              "    </tr>\n",
              "    <tr>\n",
              "      <th>Amjed</th>\n",
              "      <td>1500</td>\n",
              "      <td>21</td>\n",
              "      <td>Junior</td>\n",
              "    </tr>\n",
              "    <tr>\n",
              "      <th>Arwa</th>\n",
              "      <td>1400</td>\n",
              "      <td>30</td>\n",
              "      <td>Junior</td>\n",
              "    </tr>\n",
              "    <tr>\n",
              "      <th>Aymen</th>\n",
              "      <td>1000</td>\n",
              "      <td>28</td>\n",
              "      <td>Junior</td>\n",
              "    </tr>\n",
              "    <tr>\n",
              "      <th>Samir</th>\n",
              "      <td>2500</td>\n",
              "      <td>49</td>\n",
              "      <td>Senior</td>\n",
              "    </tr>\n",
              "    <tr>\n",
              "      <th>Sawsen</th>\n",
              "      <td>2400</td>\n",
              "      <td>47</td>\n",
              "      <td>Senior</td>\n",
              "    </tr>\n",
              "    <tr>\n",
              "      <th>Souad</th>\n",
              "      <td>2600</td>\n",
              "      <td>45</td>\n",
              "      <td>Senior</td>\n",
              "    </tr>\n",
              "    <tr>\n",
              "      <th>Salma</th>\n",
              "      <td>2900</td>\n",
              "      <td>39</td>\n",
              "      <td>Senior</td>\n",
              "    </tr>\n",
              "    <tr>\n",
              "      <th>Sonia</th>\n",
              "      <td>1900</td>\n",
              "      <td>45</td>\n",
              "      <td>Senior</td>\n",
              "    </tr>\n",
              "    <tr>\n",
              "      <th>Siwar</th>\n",
              "      <td>1950</td>\n",
              "      <td>41</td>\n",
              "      <td>Senior</td>\n",
              "    </tr>\n",
              "  </tbody>\n",
              "</table>\n",
              "</div>"
            ],
            "text/plain": [
              "        salary  age category\n",
              "Amina     1200   25   Junior\n",
              "Amine     1300   27   Junior\n",
              "Ahmed     1100   27   Junior\n",
              "Amjed     1500   21   Junior\n",
              "Arwa      1400   30   Junior\n",
              "Aymen     1000   28   Junior\n",
              "Samir     2500   49   Senior\n",
              "Sawsen    2400   47   Senior\n",
              "Souad     2600   45   Senior\n",
              "Salma     2900   39   Senior\n",
              "Sonia     1900   45   Senior\n",
              "Siwar     1950   41   Senior"
            ]
          },
          "execution_count": 73,
          "metadata": {},
          "output_type": "execute_result"
        }
      ],
      "source": [
        "# The data of employees is :\n",
        "# [[1200,25,'Junior'],\n",
        "# [1300,27,'Junior'],\n",
        "# [1100,27,'Junior'],\n",
        "# [1500,21,'Junior'],\n",
        "# [1400,30,'Junior'],\n",
        "# [1000,28,'Junior'],\n",
        "# [2500,49,'Senior'],\n",
        "# [2400,47,'Senior'],\n",
        "# [2600,45,'Senior'],\n",
        "# [2900,39,'Senior'],\n",
        "# [1900,45,'Senior'],\n",
        "# [1950,41,'Senior']]\n",
        "\n",
        "# Their respective names : ['Ahmed','Farah','Walid','Rahma','Salma','Sonia']\n",
        "\n",
        "# Create a dataframe using pd.DataFrame() function\n",
        "# You pass as arguments :\n",
        "# - the list of lists of employees above\n",
        "# - index : their names\n",
        "# - columns : caracteristics labels and target : \n",
        "#                   ['Amina','Amine','Ahmed','Amjed','Arwa','Aymen',\n",
        "#                    'Samir','Sawsen','Souad','Salma','Sonia','Siwar']\n",
        "\n",
        "df_employees = pd.DataFrame(#?,\n",
        "                            columns=#?,\n",
        "                            index=#?)\n",
        "df_employees"
      ]
    },
    {
      "cell_type": "markdown",
      "metadata": {},
      "source": [
        "**2. Split dataset**\n",
        "\n",
        "The dataset is splitted twice :\n",
        "- Split 1 : into input & output\n",
        "- Split 2 : into train & test"
      ]
    },
    {
      "cell_type": "markdown",
      "metadata": {},
      "source": [
        "**2.1. Split the dataset into input and output**\n",
        "\n",
        "The dataset is splitted into :\n",
        "- Observable/Mesurable primitive data that correpond to primitive informations about the employees\n",
        "- Target/Class data that correpond to the target column"
      ]
    },
    {
      "cell_type": "code",
      "execution_count": 74,
      "metadata": {},
      "outputs": [],
      "source": [
        "# Input data is sub-dataframe composed of all the rows and all the columns except the target column\n",
        "X=df_employees.iloc[#?,#?]\n",
        "# Input data is pandas Series composed of all the employees and only the target column\n",
        "y=df_employees.iloc[#?,#?]"
      ]
    },
    {
      "cell_type": "code",
      "execution_count": 75,
      "metadata": {},
      "outputs": [
        {
          "data": {
            "text/html": [
              "<div>\n",
              "<style scoped>\n",
              "    .dataframe tbody tr th:only-of-type {\n",
              "        vertical-align: middle;\n",
              "    }\n",
              "\n",
              "    .dataframe tbody tr th {\n",
              "        vertical-align: top;\n",
              "    }\n",
              "\n",
              "    .dataframe thead th {\n",
              "        text-align: right;\n",
              "    }\n",
              "</style>\n",
              "<table border=\"1\" class=\"dataframe\">\n",
              "  <thead>\n",
              "    <tr style=\"text-align: right;\">\n",
              "      <th></th>\n",
              "      <th>salary</th>\n",
              "      <th>age</th>\n",
              "    </tr>\n",
              "  </thead>\n",
              "  <tbody>\n",
              "    <tr>\n",
              "      <th>Amina</th>\n",
              "      <td>1200</td>\n",
              "      <td>25</td>\n",
              "    </tr>\n",
              "    <tr>\n",
              "      <th>Amine</th>\n",
              "      <td>1300</td>\n",
              "      <td>27</td>\n",
              "    </tr>\n",
              "    <tr>\n",
              "      <th>Ahmed</th>\n",
              "      <td>1100</td>\n",
              "      <td>27</td>\n",
              "    </tr>\n",
              "    <tr>\n",
              "      <th>Amjed</th>\n",
              "      <td>1500</td>\n",
              "      <td>21</td>\n",
              "    </tr>\n",
              "    <tr>\n",
              "      <th>Arwa</th>\n",
              "      <td>1400</td>\n",
              "      <td>30</td>\n",
              "    </tr>\n",
              "    <tr>\n",
              "      <th>Aymen</th>\n",
              "      <td>1000</td>\n",
              "      <td>28</td>\n",
              "    </tr>\n",
              "    <tr>\n",
              "      <th>Samir</th>\n",
              "      <td>2500</td>\n",
              "      <td>49</td>\n",
              "    </tr>\n",
              "    <tr>\n",
              "      <th>Sawsen</th>\n",
              "      <td>2400</td>\n",
              "      <td>47</td>\n",
              "    </tr>\n",
              "    <tr>\n",
              "      <th>Souad</th>\n",
              "      <td>2600</td>\n",
              "      <td>45</td>\n",
              "    </tr>\n",
              "    <tr>\n",
              "      <th>Salma</th>\n",
              "      <td>2900</td>\n",
              "      <td>39</td>\n",
              "    </tr>\n",
              "    <tr>\n",
              "      <th>Sonia</th>\n",
              "      <td>1900</td>\n",
              "      <td>45</td>\n",
              "    </tr>\n",
              "    <tr>\n",
              "      <th>Siwar</th>\n",
              "      <td>1950</td>\n",
              "      <td>41</td>\n",
              "    </tr>\n",
              "  </tbody>\n",
              "</table>\n",
              "</div>"
            ],
            "text/plain": [
              "        salary  age\n",
              "Amina     1200   25\n",
              "Amine     1300   27\n",
              "Ahmed     1100   27\n",
              "Amjed     1500   21\n",
              "Arwa      1400   30\n",
              "Aymen     1000   28\n",
              "Samir     2500   49\n",
              "Sawsen    2400   47\n",
              "Souad     2600   45\n",
              "Salma     2900   39\n",
              "Sonia     1900   45\n",
              "Siwar     1950   41"
            ]
          },
          "execution_count": 75,
          "metadata": {},
          "output_type": "execute_result"
        }
      ],
      "source": [
        "# Show X (input data)\n",
        "X"
      ]
    },
    {
      "cell_type": "code",
      "execution_count": 76,
      "metadata": {},
      "outputs": [
        {
          "data": {
            "text/plain": [
              "Amina     Junior\n",
              "Amine     Junior\n",
              "Ahmed     Junior\n",
              "Amjed     Junior\n",
              "Arwa      Junior\n",
              "Aymen     Junior\n",
              "Samir     Senior\n",
              "Sawsen    Senior\n",
              "Souad     Senior\n",
              "Salma     Senior\n",
              "Sonia     Senior\n",
              "Siwar     Senior\n",
              "Name: category, dtype: object"
            ]
          },
          "execution_count": 76,
          "metadata": {},
          "output_type": "execute_result"
        }
      ],
      "source": [
        "# Show y (output data)\n",
        "y"
      ]
    },
    {
      "cell_type": "markdown",
      "metadata": {},
      "source": [
        "**2.2. Split the dataset into train & test**\n",
        "\n",
        "The input and output data are splitted into train and test sets :\n",
        "- X_train & y_train : are the train dataset\n",
        "- X_test & y_test : are the test dataset\n",
        "\n",
        "To do it, we use the <font color='red'>train_test_split()</font> function"
      ]
    },
    {
      "cell_type": "code",
      "execution_count": 77,
      "metadata": {},
      "outputs": [],
      "source": [
        "# Import train_test_split from sklearn.model_selection\n",
        "from #? import #?"
      ]
    },
    {
      "cell_type": "code",
      "execution_count": 78,
      "metadata": {},
      "outputs": [],
      "source": [
        "# Call train_test_split\n",
        "# Pass arguments :\n",
        "# - X : Observable/Mesurable/Input data\n",
        "# - y : Target/Class/Output data\n",
        "# - train_size : % of train data, in our case 0.7\n",
        "# - stratify : an array of labels given to data \n",
        "#       + It ensures that the distribution of classes or categories \n",
        "#         in the original dataset is preserved in both the training and testing sets.\n",
        "#       + It is important when dealing with imbalanced datasets\n",
        "X_train, X_test, y_train, y_test = train_test_split(#? , #? , train_size=#?, stratify=y)"
      ]
    },
    {
      "cell_type": "code",
      "execution_count": 79,
      "metadata": {},
      "outputs": [
        {
          "data": {
            "text/plain": [
              "Salma     Senior\n",
              "Sonia     Senior\n",
              "Aymen     Junior\n",
              "Siwar     Senior\n",
              "Sawsen    Senior\n",
              "Amine     Junior\n",
              "Amina     Junior\n",
              "Ahmed     Junior\n",
              "Name: category, dtype: object"
            ]
          },
          "execution_count": 79,
          "metadata": {},
          "output_type": "execute_result"
        }
      ],
      "source": [
        "# Show y_train\n",
        "y_train"
      ]
    },
    {
      "cell_type": "code",
      "execution_count": 80,
      "metadata": {},
      "outputs": [
        {
          "data": {
            "text/plain": [
              "Arwa     Junior\n",
              "Souad    Senior\n",
              "Samir    Senior\n",
              "Amjed    Junior\n",
              "Name: category, dtype: object"
            ]
          },
          "execution_count": 80,
          "metadata": {},
          "output_type": "execute_result"
        }
      ],
      "source": [
        "# Show y_test\n",
        "y_test"
      ]
    },
    {
      "cell_type": "markdown",
      "metadata": {
        "id": "DK0hfldC8hT9"
      },
      "source": [
        "**2. Learning process using KNN**\n",
        "\n",
        "In scikit-learn ,<font color='red'>KNN</font> is implemented as <font color='red'>KNeighborsClassifier class</font> in <font color='red'>sklearn.neighbors</font> module.\n",
        "\n",
        "KNN class has :\n",
        "- a <font color='red'>constructor function</font> that allows to initialize hyperparameters\n",
        "- a <font color='red'>fit()</font> function that allows to fit the model given the training data\n",
        "- a <font color='red'>predict()</font> function that allows to predict the class label for a given new data"
      ]
    },
    {
      "cell_type": "code",
      "execution_count": 81,
      "metadata": {
        "id": "g9upC0368SxM"
      },
      "outputs": [],
      "source": [
        "# Import KNN class from sklearn.neighbors module\n",
        "from #? import #?"
      ]
    },
    {
      "cell_type": "code",
      "execution_count": 82,
      "metadata": {
        "colab": {
          "base_uri": "https://localhost:8080/"
        },
        "id": "sU9A-v67IdOC",
        "outputId": "82f5f0d1-5a1f-4f1e-c75f-312f5be7e53a"
      },
      "outputs": [],
      "source": [
        "# Create a KNN instance denoted knn from KNeighborsClassifier class\n",
        "# Initialize the hyperparameter :\n",
        "# - n_neighbors : it represents the number of neighbors \n",
        "#   used to vote the class label in prediction process\n",
        "#   In our case, its value is 3\n",
        "knn = #?"
      ]
    },
    {
      "cell_type": "code",
      "execution_count": 83,
      "metadata": {},
      "outputs": [
        {
          "data": {
            "text/html": [
              "<style>#sk-container-id-3 {color: black;}#sk-container-id-3 pre{padding: 0;}#sk-container-id-3 div.sk-toggleable {background-color: white;}#sk-container-id-3 label.sk-toggleable__label {cursor: pointer;display: block;width: 100%;margin-bottom: 0;padding: 0.3em;box-sizing: border-box;text-align: center;}#sk-container-id-3 label.sk-toggleable__label-arrow:before {content: \"▸\";float: left;margin-right: 0.25em;color: #696969;}#sk-container-id-3 label.sk-toggleable__label-arrow:hover:before {color: black;}#sk-container-id-3 div.sk-estimator:hover label.sk-toggleable__label-arrow:before {color: black;}#sk-container-id-3 div.sk-toggleable__content {max-height: 0;max-width: 0;overflow: hidden;text-align: left;background-color: #f0f8ff;}#sk-container-id-3 div.sk-toggleable__content pre {margin: 0.2em;color: black;border-radius: 0.25em;background-color: #f0f8ff;}#sk-container-id-3 input.sk-toggleable__control:checked~div.sk-toggleable__content {max-height: 200px;max-width: 100%;overflow: auto;}#sk-container-id-3 input.sk-toggleable__control:checked~label.sk-toggleable__label-arrow:before {content: \"▾\";}#sk-container-id-3 div.sk-estimator input.sk-toggleable__control:checked~label.sk-toggleable__label {background-color: #d4ebff;}#sk-container-id-3 div.sk-label input.sk-toggleable__control:checked~label.sk-toggleable__label {background-color: #d4ebff;}#sk-container-id-3 input.sk-hidden--visually {border: 0;clip: rect(1px 1px 1px 1px);clip: rect(1px, 1px, 1px, 1px);height: 1px;margin: -1px;overflow: hidden;padding: 0;position: absolute;width: 1px;}#sk-container-id-3 div.sk-estimator {font-family: monospace;background-color: #f0f8ff;border: 1px dotted black;border-radius: 0.25em;box-sizing: border-box;margin-bottom: 0.5em;}#sk-container-id-3 div.sk-estimator:hover {background-color: #d4ebff;}#sk-container-id-3 div.sk-parallel-item::after {content: \"\";width: 100%;border-bottom: 1px solid gray;flex-grow: 1;}#sk-container-id-3 div.sk-label:hover label.sk-toggleable__label {background-color: #d4ebff;}#sk-container-id-3 div.sk-serial::before {content: \"\";position: absolute;border-left: 1px solid gray;box-sizing: border-box;top: 0;bottom: 0;left: 50%;z-index: 0;}#sk-container-id-3 div.sk-serial {display: flex;flex-direction: column;align-items: center;background-color: white;padding-right: 0.2em;padding-left: 0.2em;position: relative;}#sk-container-id-3 div.sk-item {position: relative;z-index: 1;}#sk-container-id-3 div.sk-parallel {display: flex;align-items: stretch;justify-content: center;background-color: white;position: relative;}#sk-container-id-3 div.sk-item::before, #sk-container-id-3 div.sk-parallel-item::before {content: \"\";position: absolute;border-left: 1px solid gray;box-sizing: border-box;top: 0;bottom: 0;left: 50%;z-index: -1;}#sk-container-id-3 div.sk-parallel-item {display: flex;flex-direction: column;z-index: 1;position: relative;background-color: white;}#sk-container-id-3 div.sk-parallel-item:first-child::after {align-self: flex-end;width: 50%;}#sk-container-id-3 div.sk-parallel-item:last-child::after {align-self: flex-start;width: 50%;}#sk-container-id-3 div.sk-parallel-item:only-child::after {width: 0;}#sk-container-id-3 div.sk-dashed-wrapped {border: 1px dashed gray;margin: 0 0.4em 0.5em 0.4em;box-sizing: border-box;padding-bottom: 0.4em;background-color: white;}#sk-container-id-3 div.sk-label label {font-family: monospace;font-weight: bold;display: inline-block;line-height: 1.2em;}#sk-container-id-3 div.sk-label-container {text-align: center;}#sk-container-id-3 div.sk-container {/* jupyter's `normalize.less` sets `[hidden] { display: none; }` but bootstrap.min.css set `[hidden] { display: none !important; }` so we also need the `!important` here to be able to override the default hidden behavior on the sphinx rendered scikit-learn.org. See: https://github.com/scikit-learn/scikit-learn/issues/21755 */display: inline-block !important;position: relative;}#sk-container-id-3 div.sk-text-repr-fallback {display: none;}</style><div id=\"sk-container-id-3\" class=\"sk-top-container\"><div class=\"sk-text-repr-fallback\"><pre>KNeighborsClassifier(n_neighbors=3)</pre><b>In a Jupyter environment, please rerun this cell to show the HTML representation or trust the notebook. <br />On GitHub, the HTML representation is unable to render, please try loading this page with nbviewer.org.</b></div><div class=\"sk-container\" hidden><div class=\"sk-item\"><div class=\"sk-estimator sk-toggleable\"><input class=\"sk-toggleable__control sk-hidden--visually\" id=\"sk-estimator-id-3\" type=\"checkbox\" checked><label for=\"sk-estimator-id-3\" class=\"sk-toggleable__label sk-toggleable__label-arrow\">KNeighborsClassifier</label><div class=\"sk-toggleable__content\"><pre>KNeighborsClassifier(n_neighbors=3)</pre></div></div></div></div></div>"
            ],
            "text/plain": [
              "KNeighborsClassifier(n_neighbors=3)"
            ]
          },
          "execution_count": 83,
          "metadata": {},
          "output_type": "execute_result"
        }
      ],
      "source": [
        "# Call knn.fit() function\n",
        "# Pass as arguments :\n",
        "# - the train data X_train\n",
        "# - the train class labels y_train \n",
        "knn.fit(#?, #?)"
      ]
    },
    {
      "cell_type": "code",
      "execution_count": 84,
      "metadata": {},
      "outputs": [
        {
          "data": {
            "text/plain": [
              "array(['Junior', 'Senior'], dtype=object)"
            ]
          },
          "execution_count": 84,
          "metadata": {},
          "output_type": "execute_result"
        }
      ],
      "source": [
        "# We can show the class labels detected by the classifier\n",
        "knn.classes_"
      ]
    },
    {
      "cell_type": "markdown",
      "metadata": {},
      "source": [
        "**Evaluation**"
      ]
    },
    {
      "cell_type": "code",
      "execution_count": 85,
      "metadata": {},
      "outputs": [
        {
          "data": {
            "text/plain": [
              "array(['Junior', 'Senior', 'Senior', 'Junior'], dtype=object)"
            ]
          },
          "execution_count": 85,
          "metadata": {},
          "output_type": "execute_result"
        }
      ],
      "source": [
        "# Predict class labels for test data\n",
        "# Call predict predict() and\n",
        "# Pass X_test as argument\n",
        "y_test_pred= knn.predict(#?)\n",
        "y_test_pred"
      ]
    },
    {
      "cell_type": "code",
      "execution_count": 86,
      "metadata": {},
      "outputs": [
        {
          "data": {
            "text/plain": [
              "Arwa     True\n",
              "Souad    True\n",
              "Samir    True\n",
              "Amjed    True\n",
              "Name: category, dtype: bool"
            ]
          },
          "execution_count": 86,
          "metadata": {},
          "output_type": "execute_result"
        }
      ],
      "source": [
        "# Show matching between predicted class labels and true class labels\n",
        "y_test_pred==y_test"
      ]
    },
    {
      "cell_type": "code",
      "execution_count": 87,
      "metadata": {},
      "outputs": [],
      "source": [
        "# Import confusion matrix function from sklearn.metrics\n",
        "from sklearn.metrics import confusion_matrix"
      ]
    },
    {
      "cell_type": "code",
      "execution_count": 88,
      "metadata": {},
      "outputs": [
        {
          "data": {
            "text/plain": [
              "array([[2, 0],\n",
              "       [0, 2]], dtype=int64)"
            ]
          },
          "execution_count": 88,
          "metadata": {},
          "output_type": "execute_result"
        }
      ],
      "source": [
        "# compute confusion matrix\n",
        "# Pass as arguments :\n",
        "# - y_test (true class labels of test data)\n",
        "# - y_test_pred (predicted class labels of test data)\n",
        "confusion_matrix(#?, #?)"
      ]
    },
    {
      "cell_type": "code",
      "execution_count": 89,
      "metadata": {},
      "outputs": [],
      "source": [
        "# Import accuracy score function from sklearn.metrics\n",
        "from sklearn.metrics import  accuracy_score"
      ]
    },
    {
      "cell_type": "code",
      "execution_count": 90,
      "metadata": {},
      "outputs": [
        {
          "data": {
            "text/plain": [
              "1.0"
            ]
          },
          "execution_count": 90,
          "metadata": {},
          "output_type": "execute_result"
        }
      ],
      "source": [
        "# compute accuracy score\n",
        "# Pass as arguments :\n",
        "# - y_test (true class labels of test data)\n",
        "# - y_test_pred (predicted class labels of test data)\n",
        "accuracy_score(#?, #?)"
      ]
    },
    {
      "cell_type": "code",
      "execution_count": 91,
      "metadata": {},
      "outputs": [],
      "source": [
        "# Import classification report from sklearn.metrics\n",
        "from sklearn.metrics import classification_report"
      ]
    },
    {
      "cell_type": "code",
      "execution_count": 92,
      "metadata": {},
      "outputs": [
        {
          "name": "stdout",
          "output_type": "stream",
          "text": [
            "              precision    recall  f1-score   support\n",
            "\n",
            "      Junior       1.00      1.00      1.00         2\n",
            "      Senior       1.00      1.00      1.00         2\n",
            "\n",
            "    accuracy                           1.00         4\n",
            "   macro avg       1.00      1.00      1.00         4\n",
            "weighted avg       1.00      1.00      1.00         4\n",
            "\n"
          ]
        }
      ],
      "source": [
        "# Show recall and precision by class\n",
        "print(classification_report(#?, #?))"
      ]
    },
    {
      "cell_type": "markdown",
      "metadata": {},
      "source": [
        "**3. Visualize the classes**\n",
        "\n",
        "Once the learning process is completed, we can visualize the predicted classes"
      ]
    },
    {
      "cell_type": "code",
      "execution_count": 93,
      "metadata": {},
      "outputs": [],
      "source": [
        "# Show the clusters of training dataset\n",
        "class_junior = #?\n",
        "class_senior = #?"
      ]
    },
    {
      "cell_type": "code",
      "execution_count": 94,
      "metadata": {},
      "outputs": [
        {
          "data": {
            "text/html": [
              "<div>\n",
              "<style scoped>\n",
              "    .dataframe tbody tr th:only-of-type {\n",
              "        vertical-align: middle;\n",
              "    }\n",
              "\n",
              "    .dataframe tbody tr th {\n",
              "        vertical-align: top;\n",
              "    }\n",
              "\n",
              "    .dataframe thead th {\n",
              "        text-align: right;\n",
              "    }\n",
              "</style>\n",
              "<table border=\"1\" class=\"dataframe\">\n",
              "  <thead>\n",
              "    <tr style=\"text-align: right;\">\n",
              "      <th></th>\n",
              "      <th>salary</th>\n",
              "      <th>age</th>\n",
              "    </tr>\n",
              "  </thead>\n",
              "  <tbody>\n",
              "    <tr>\n",
              "      <th>Arwa</th>\n",
              "      <td>1400</td>\n",
              "      <td>30</td>\n",
              "    </tr>\n",
              "    <tr>\n",
              "      <th>Amjed</th>\n",
              "      <td>1500</td>\n",
              "      <td>21</td>\n",
              "    </tr>\n",
              "  </tbody>\n",
              "</table>\n",
              "</div>"
            ],
            "text/plain": [
              "       salary  age\n",
              "Arwa     1400   30\n",
              "Amjed    1500   21"
            ]
          },
          "execution_count": 94,
          "metadata": {},
          "output_type": "execute_result"
        }
      ],
      "source": [
        "# class 'Junior'\n",
        "class_junior"
      ]
    },
    {
      "cell_type": "code",
      "execution_count": 95,
      "metadata": {},
      "outputs": [
        {
          "data": {
            "text/html": [
              "<div>\n",
              "<style scoped>\n",
              "    .dataframe tbody tr th:only-of-type {\n",
              "        vertical-align: middle;\n",
              "    }\n",
              "\n",
              "    .dataframe tbody tr th {\n",
              "        vertical-align: top;\n",
              "    }\n",
              "\n",
              "    .dataframe thead th {\n",
              "        text-align: right;\n",
              "    }\n",
              "</style>\n",
              "<table border=\"1\" class=\"dataframe\">\n",
              "  <thead>\n",
              "    <tr style=\"text-align: right;\">\n",
              "      <th></th>\n",
              "      <th>salary</th>\n",
              "      <th>age</th>\n",
              "    </tr>\n",
              "  </thead>\n",
              "  <tbody>\n",
              "    <tr>\n",
              "      <th>Souad</th>\n",
              "      <td>2600</td>\n",
              "      <td>45</td>\n",
              "    </tr>\n",
              "    <tr>\n",
              "      <th>Samir</th>\n",
              "      <td>2500</td>\n",
              "      <td>49</td>\n",
              "    </tr>\n",
              "  </tbody>\n",
              "</table>\n",
              "</div>"
            ],
            "text/plain": [
              "       salary  age\n",
              "Souad    2600   45\n",
              "Samir    2500   49"
            ]
          },
          "execution_count": 95,
          "metadata": {},
          "output_type": "execute_result"
        }
      ],
      "source": [
        "# class 'Senior'\n",
        "class_senior"
      ]
    },
    {
      "cell_type": "markdown",
      "metadata": {
        "id": "JUqqpNYKF5w3"
      },
      "source": [
        "**4. Prediction process**\n",
        "\n",
        "Once the learning process is completed, we can predict the cluster label for a new employee"
      ]
    },
    {
      "cell_type": "code",
      "execution_count": 96,
      "metadata": {
        "colab": {
          "base_uri": "https://localhost:8080/",
          "height": 81
        },
        "id": "H6_DYvPU9RJc",
        "outputId": "899bbae8-e65b-4c74-8ba3-f0f55ab94767"
      },
      "outputs": [
        {
          "data": {
            "text/html": [
              "<div>\n",
              "<style scoped>\n",
              "    .dataframe tbody tr th:only-of-type {\n",
              "        vertical-align: middle;\n",
              "    }\n",
              "\n",
              "    .dataframe tbody tr th {\n",
              "        vertical-align: top;\n",
              "    }\n",
              "\n",
              "    .dataframe thead th {\n",
              "        text-align: right;\n",
              "    }\n",
              "</style>\n",
              "<table border=\"1\" class=\"dataframe\">\n",
              "  <thead>\n",
              "    <tr style=\"text-align: right;\">\n",
              "      <th></th>\n",
              "      <th>salary</th>\n",
              "      <th>age</th>\n",
              "    </tr>\n",
              "  </thead>\n",
              "  <tbody>\n",
              "    <tr>\n",
              "      <th>Ali</th>\n",
              "      <td>500.67</td>\n",
              "      <td>24</td>\n",
              "    </tr>\n",
              "  </tbody>\n",
              "</table>\n",
              "</div>"
            ],
            "text/plain": [
              "     salary  age\n",
              "Ali  500.67   24"
            ]
          },
          "execution_count": 96,
          "metadata": {},
          "output_type": "execute_result"
        }
      ],
      "source": [
        "# Let emp_new be a new employee with name 'Ali' and age 24 and salary 500.67\n",
        "# We create it as a Dataframe with values = [[500.67,24]]\n",
        "# Keep the same column names\n",
        "df_emp_new = pd.DataFrame(#?, \n",
        "                        columns=#?,\n",
        "                        index=#?)\n",
        "df_emp_new"
      ]
    },
    {
      "cell_type": "code",
      "execution_count": 97,
      "metadata": {
        "colab": {
          "base_uri": "https://localhost:8080/"
        },
        "id": "_Rbu6w6k9JgX",
        "outputId": "59f0809b-2ace-475a-e318-47f887477182"
      },
      "outputs": [
        {
          "data": {
            "text/plain": [
              "array(['Junior'], dtype=object)"
            ]
          },
          "execution_count": 97,
          "metadata": {},
          "output_type": "execute_result"
        }
      ],
      "source": [
        "# Predict the class label of emp_new\n",
        "y_new_emp=knn.predict(#?)\n",
        "y_new_emp"
      ]
    },
    {
      "cell_type": "markdown",
      "metadata": {},
      "source": [
        "**5. Visualization of clusters**\n",
        "\n",
        "We can visualize the population and the predicted classes."
      ]
    },
    {
      "cell_type": "code",
      "execution_count": 98,
      "metadata": {},
      "outputs": [
        {
          "data": {
            "image/png": "[encoded data removed]",
            "text/plain": [
              "<Figure size 640x480 with 1 Axes>"
            ]
          },
          "metadata": {},
          "output_type": "display_data"
        }
      ],
      "source": [
        "# import required library\n",
        "import matplotlib.pyplot as plt\n",
        "\n",
        "# Show the test employees with their predicted classes \n",
        "# # with differents colors (based on class) and + symbol \n",
        "plt.plot(#? , #? ,  #? , label=#?)\n",
        "plt.plot(#? ,  #? ,  #? , label=#?)\n",
        "\n",
        "# When visualizing the dataset and its clusters, use the following code \n",
        "# to annotate the figure points of employees with their names :\n",
        "for nom, x, y in zip(#?):\n",
        "  plt.annotate(nom, xy =(x, y), xycoords=\"data\")\n",
        "\n",
        "plt.legend()\n",
        "plt.title('Classification of employees')\n",
        "plt.show()"
      ]
    }
  ],
  "metadata": {
    "colab": {
      "collapsed_sections": [],
      "provenance": []
    },
    "kernelspec": {
      "display_name": "Python 3",
      "name": "python3"
    },
    "language_info": {
      "codemirror_mode": {
        "name": "ipython",
        "version": 3
      },
      "file_extension": ".py",
      "mimetype": "text/x-python",
      "name": "python",
      "nbconvert_exporter": "python",
      "pygments_lexer": "ipython3",
      "version": "3.8.3"
    }
  },
  "nbformat": 4,
  "nbformat_minor": 0
}
