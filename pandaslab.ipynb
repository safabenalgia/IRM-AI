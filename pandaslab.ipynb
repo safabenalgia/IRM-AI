{
 "cells": [
  {
   "cell_type": "code",
   "execution_count": 3,
   "metadata": {},
   "outputs": [],
   "source": [
    "import pandas as pd"
   ]
  },
  {
   "cell_type": "code",
   "execution_count": 7,
   "metadata": {},
   "outputs": [],
   "source": [
    "df_employes=pd.read_csv('employes.csv',header=0,index_col=0)"
   ]
  },
  {
   "cell_type": "code",
   "execution_count": 8,
   "metadata": {},
   "outputs": [
    {
     "data": {
      "text/html": [
       "<div>\n",
       "<style scoped>\n",
       "    .dataframe tbody tr th:only-of-type {\n",
       "        vertical-align: middle;\n",
       "    }\n",
       "\n",
       "    .dataframe tbody tr th {\n",
       "        vertical-align: top;\n",
       "    }\n",
       "\n",
       "    .dataframe thead th {\n",
       "        text-align: right;\n",
       "    }\n",
       "</style>\n",
       "<table border=\"1\" class=\"dataframe\">\n",
       "  <thead>\n",
       "    <tr style=\"text-align: right;\">\n",
       "      <th></th>\n",
       "      <th>salaire</th>\n",
       "      <th>prime</th>\n",
       "      <th>etat civil</th>\n",
       "      <th>date recrutement</th>\n",
       "    </tr>\n",
       "    <tr>\n",
       "      <th>nom</th>\n",
       "      <th></th>\n",
       "      <th></th>\n",
       "      <th></th>\n",
       "      <th></th>\n",
       "    </tr>\n",
       "  </thead>\n",
       "  <tbody>\n",
       "    <tr>\n",
       "      <th>Ali</th>\n",
       "      <td>1200.675</td>\n",
       "      <td>100.560</td>\n",
       "      <td>celibataire</td>\n",
       "      <td>20/10/2018</td>\n",
       "    </tr>\n",
       "    <tr>\n",
       "      <th>Sonia</th>\n",
       "      <td>2800.786</td>\n",
       "      <td>400.876</td>\n",
       "      <td>marie</td>\n",
       "      <td>30/11/2005</td>\n",
       "    </tr>\n",
       "    <tr>\n",
       "      <th>Rahma</th>\n",
       "      <td>NaN</td>\n",
       "      <td>130.987</td>\n",
       "      <td>celibataire</td>\n",
       "      <td>04/02/2017</td>\n",
       "    </tr>\n",
       "  </tbody>\n",
       "</table>\n",
       "</div>"
      ],
      "text/plain": [
       "        salaire    prime   etat civil date recrutement\n",
       "nom                                                   \n",
       "Ali    1200.675  100.560  celibataire       20/10/2018\n",
       "Sonia  2800.786  400.876        marie       30/11/2005\n",
       "Rahma       NaN  130.987  celibataire       04/02/2017"
      ]
     },
     "execution_count": 8,
     "metadata": {},
     "output_type": "execute_result"
    }
   ],
   "source": [
    "df_employes.head(3)"
   ]
  },
  {
   "cell_type": "code",
   "execution_count": 9,
   "metadata": {},
   "outputs": [
    {
     "data": {
      "text/html": [
       "<div>\n",
       "<style scoped>\n",
       "    .dataframe tbody tr th:only-of-type {\n",
       "        vertical-align: middle;\n",
       "    }\n",
       "\n",
       "    .dataframe tbody tr th {\n",
       "        vertical-align: top;\n",
       "    }\n",
       "\n",
       "    .dataframe thead th {\n",
       "        text-align: right;\n",
       "    }\n",
       "</style>\n",
       "<table border=\"1\" class=\"dataframe\">\n",
       "  <thead>\n",
       "    <tr style=\"text-align: right;\">\n",
       "      <th></th>\n",
       "      <th>salaire</th>\n",
       "      <th>prime</th>\n",
       "      <th>etat civil</th>\n",
       "      <th>date recrutement</th>\n",
       "    </tr>\n",
       "    <tr>\n",
       "      <th>nom</th>\n",
       "      <th></th>\n",
       "      <th></th>\n",
       "      <th></th>\n",
       "      <th></th>\n",
       "    </tr>\n",
       "  </thead>\n",
       "  <tbody>\n",
       "    <tr>\n",
       "      <th>Ali</th>\n",
       "      <td>1200.675</td>\n",
       "      <td>100.560</td>\n",
       "      <td>celibataire</td>\n",
       "      <td>20/10/2018</td>\n",
       "    </tr>\n",
       "    <tr>\n",
       "      <th>Sonia</th>\n",
       "      <td>2800.786</td>\n",
       "      <td>400.876</td>\n",
       "      <td>marie</td>\n",
       "      <td>30/11/2005</td>\n",
       "    </tr>\n",
       "    <tr>\n",
       "      <th>Rahma</th>\n",
       "      <td>NaN</td>\n",
       "      <td>130.987</td>\n",
       "      <td>celibataire</td>\n",
       "      <td>04/02/2017</td>\n",
       "    </tr>\n",
       "    <tr>\n",
       "      <th>Salma</th>\n",
       "      <td>2500.876</td>\n",
       "      <td>340.600</td>\n",
       "      <td>marie</td>\n",
       "      <td>03/02/2010</td>\n",
       "    </tr>\n",
       "    <tr>\n",
       "      <th>Ahmed</th>\n",
       "      <td>3100.760</td>\n",
       "      <td>NaN</td>\n",
       "      <td>marie</td>\n",
       "      <td>09/09/2004</td>\n",
       "    </tr>\n",
       "    <tr>\n",
       "      <th>Saleh</th>\n",
       "      <td>1300.876</td>\n",
       "      <td>150.900</td>\n",
       "      <td>celibataire</td>\n",
       "      <td>01/01/2017</td>\n",
       "    </tr>\n",
       "    <tr>\n",
       "      <th>Ameni</th>\n",
       "      <td>1100.660</td>\n",
       "      <td>130.870</td>\n",
       "      <td>celibataire</td>\n",
       "      <td>11/05/2019</td>\n",
       "    </tr>\n",
       "    <tr>\n",
       "      <th>Mehdi</th>\n",
       "      <td>3000.760</td>\n",
       "      <td>NaN</td>\n",
       "      <td>marie</td>\n",
       "      <td>07/07/2000</td>\n",
       "    </tr>\n",
       "    <tr>\n",
       "      <th>Salem</th>\n",
       "      <td>1505.760</td>\n",
       "      <td>159.700</td>\n",
       "      <td>celibataire</td>\n",
       "      <td>21/11/2017</td>\n",
       "    </tr>\n",
       "    <tr>\n",
       "      <th>Sameh</th>\n",
       "      <td>2700.330</td>\n",
       "      <td>400.000</td>\n",
       "      <td>marie</td>\n",
       "      <td>19/02/1999</td>\n",
       "    </tr>\n",
       "    <tr>\n",
       "      <th>Wajdi</th>\n",
       "      <td>1200.980</td>\n",
       "      <td>NaN</td>\n",
       "      <td>celibataire</td>\n",
       "      <td>27/11/2015</td>\n",
       "    </tr>\n",
       "    <tr>\n",
       "      <th>Moufida</th>\n",
       "      <td>3700.440</td>\n",
       "      <td>500.000</td>\n",
       "      <td>marie</td>\n",
       "      <td>09/12/1991</td>\n",
       "    </tr>\n",
       "  </tbody>\n",
       "</table>\n",
       "</div>"
      ],
      "text/plain": [
       "          salaire    prime   etat civil date recrutement\n",
       "nom                                                     \n",
       "Ali      1200.675  100.560  celibataire       20/10/2018\n",
       "Sonia    2800.786  400.876        marie       30/11/2005\n",
       "Rahma         NaN  130.987  celibataire       04/02/2017\n",
       "Salma    2500.876  340.600        marie       03/02/2010\n",
       "Ahmed    3100.760      NaN        marie       09/09/2004\n",
       "Saleh    1300.876  150.900  celibataire       01/01/2017\n",
       "Ameni    1100.660  130.870  celibataire       11/05/2019\n",
       "Mehdi    3000.760      NaN        marie       07/07/2000\n",
       "Salem    1505.760  159.700  celibataire       21/11/2017\n",
       "Sameh    2700.330  400.000        marie       19/02/1999\n",
       "Wajdi    1200.980      NaN  celibataire       27/11/2015\n",
       "Moufida  3700.440  500.000        marie       09/12/1991"
      ]
     },
     "execution_count": 9,
     "metadata": {},
     "output_type": "execute_result"
    }
   ],
   "source": [
    "df_employes"
   ]
  },
  {
   "cell_type": "code",
   "execution_count": 10,
   "metadata": {},
   "outputs": [
    {
     "data": {
      "text/plain": [
       "Index(['Ali', 'Sonia', 'Rahma', 'Salma', 'Ahmed', 'Saleh', 'Ameni', 'Mehdi',\n",
       "       'Salem', 'Sameh', 'Wajdi', 'Moufida'],\n",
       "      dtype='object', name='nom')"
      ]
     },
     "execution_count": 10,
     "metadata": {},
     "output_type": "execute_result"
    }
   ],
   "source": [
    "df_employes.index"
   ]
  },
  {
   "cell_type": "code",
   "execution_count": 11,
   "metadata": {},
   "outputs": [
    {
     "data": {
      "text/plain": [
       "Index(['salaire', 'prime', 'etat civil', 'date recrutement'], dtype='object')"
      ]
     },
     "execution_count": 11,
     "metadata": {},
     "output_type": "execute_result"
    }
   ],
   "source": [
    "df_employes.columns"
   ]
  },
  {
   "cell_type": "code",
   "execution_count": 12,
   "metadata": {},
   "outputs": [
    {
     "data": {
      "text/plain": [
       "array([[1200.675, 100.56, 'celibataire', '20/10/2018'],\n",
       "       [2800.786, 400.876, 'marie', '30/11/2005'],\n",
       "       [nan, 130.987, 'celibataire', '04/02/2017'],\n",
       "       [2500.876, 340.6, 'marie', '03/02/2010'],\n",
       "       [3100.76, nan, 'marie', '09/09/2004'],\n",
       "       [1300.876, 150.9, 'celibataire', '01/01/2017'],\n",
       "       [1100.66, 130.87, 'celibataire', '11/05/2019'],\n",
       "       [3000.76, nan, 'marie', '07/07/2000'],\n",
       "       [1505.76, 159.7, 'celibataire', '21/11/2017'],\n",
       "       [2700.33, 400.0, 'marie', '19/02/1999'],\n",
       "       [1200.98, nan, 'celibataire', '27/11/2015'],\n",
       "       [3700.44, 500.0, 'marie', '09/12/1991']], dtype=object)"
      ]
     },
     "execution_count": 12,
     "metadata": {},
     "output_type": "execute_result"
    }
   ],
   "source": [
    "df_employes.values"
   ]
  },
  {
   "cell_type": "code",
   "execution_count": 14,
   "metadata": {},
   "outputs": [
    {
     "data": {
      "text/plain": [
       "nom\n",
       "Ali        1200.675\n",
       "Sonia      2800.786\n",
       "Rahma           NaN\n",
       "Salma      2500.876\n",
       "Ahmed      3100.760\n",
       "Saleh      1300.876\n",
       "Ameni      1100.660\n",
       "Mehdi      3000.760\n",
       "Salem      1505.760\n",
       "Sameh      2700.330\n",
       "Wajdi      1200.980\n",
       "Moufida    3700.440\n",
       "Name: salaire, dtype: float64"
      ]
     },
     "execution_count": 14,
     "metadata": {},
     "output_type": "execute_result"
    }
   ],
   "source": [
    "df_employes.iloc[:,0]"
   ]
  },
  {
   "cell_type": "code",
   "execution_count": 16,
   "metadata": {},
   "outputs": [
    {
     "data": {
      "text/plain": [
       "nom\n",
       "Ali        celibataire\n",
       "Sonia            marie\n",
       "Rahma      celibataire\n",
       "Salma            marie\n",
       "Ahmed            marie\n",
       "Saleh      celibataire\n",
       "Ameni      celibataire\n",
       "Mehdi            marie\n",
       "Salem      celibataire\n",
       "Sameh            marie\n",
       "Wajdi      celibataire\n",
       "Moufida          marie\n",
       "Name: etat civil, dtype: object"
      ]
     },
     "execution_count": 16,
     "metadata": {},
     "output_type": "execute_result"
    }
   ],
   "source": [
    "df_employes.loc[:,'etat civil']"
   ]
  }
 ],
 "metadata": {
  "kernelspec": {
   "display_name": "Python 3",
   "language": "python",
   "name": "python3"
  },
  "language_info": {
   "codemirror_mode": {
    "name": "ipython",
    "version": 3
   },
   "file_extension": ".py",
   "mimetype": "text/x-python",
   "name": "python",
   "nbconvert_exporter": "python",
   "pygments_lexer": "ipython3",
   "version": "3.9.7"
  }
 },
 "nbformat": 4,
 "nbformat_minor": 2
}
